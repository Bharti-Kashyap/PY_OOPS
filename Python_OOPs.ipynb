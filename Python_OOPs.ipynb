{
  "nbformat": 4,
  "nbformat_minor": 0,
  "metadata": {
    "colab": {
      "provenance": []
    },
    "kernelspec": {
      "name": "python3",
      "display_name": "Python 3"
    },
    "language_info": {
      "name": "python"
    }
  },
  "cells": [
    {
      "cell_type": "markdown",
      "source": [
        "# Python OOPs\n",
        "\n",
        "1. What is Object-Oriented Programming (OOP)?\n",
        "- Object-oriented programming (OOP) is a computer programming model that organizes software design around data, or objects, rather than functions and logic.\n",
        "\n",
        "2. What is a class in OOP.\n",
        "- In object-oriented programming, a class is a template definition of the methods and variables in a particular kind of object. Thus, an object is a specific instance of a class; it contains real values instead of variables. The class is one of the defining ideas of object-oriented programming.\n",
        "\n",
        "3. What is an object in OOP.\n",
        "- An object is a component of a program that knows how to perform certain actions and how to interact with other elements of the program. Objects are the basic units of object-oriented programming. A simple example of an object would be a person\n",
        "\n",
        "4. What is the difference between abstraction and encapsulation.\n",
        "- Abstraction in Python simplifies complex systems, hiding implementation details for better code readability. Encapsulation safeguards data integrity by restricting direct access to an object's data and methods.\n",
        "\n",
        "5. What are dunder methods in Python.\n",
        "- Dunder methods, also known as magic methods or special methods, are predefined methods in Python that have double underscores (or “dunders”) at the beginning and end of their names. These methods provide a way to define specific behaviors for built-in operations or functionalities in Python classes.\n",
        "\n",
        "6. Explain the concept of inheritance in OOP.\n",
        "- Inheritance is one of the core concepts of object-oriented programming (OOP) languages. It is a mechanism where you can derive a class from another class for a hierarchy of classes that share a set of attributes and methods.\n",
        "\n",
        "7. What is polymorphism in OOP.\n",
        "- It involves a superclass and two subclasses that demonstrate the concept of method overriding. Let's consider a scenario involving a `Shape` superclass and two subclasses, `Circle` and `Rectangle`, both of which inherit from `Shape`.\n",
        "8. How is encapsulation achieved in Python.\n",
        "- Encapsulation is achieved by declaring a class's data members and methods as either private or protected. But in Python, we do not have keywords like public, private, and protected, as in the case of Java. Instead, we achieve this by using single and double underscores.\n",
        "\n",
        "9. What is a constructor in Python.\n",
        "- Constructors in Python is a special class method for creating and initializing an object instance at that class. Every Python class has a constructor; it's not required to be defined explicitly. The purpose of the constructor is to construct an object and assign a value to the object's members.\n",
        "\n",
        "10. What are class and static methods in Python.\n",
        "- Class methods can access and modify class-level attributes. They have access to the class object and can modify class variables or create new instances of the class. Static methods, on the other hand, do not have access to the class object and cannot modify any class-level attributes.\n",
        "\n",
        "11. What is method overloading in Python.\n",
        "- The concept of method overloading in Python refers to the ability to define multiple methods of the same name, but with different parameters. In many object-oriented programming languages, overloading is used to create different implementations of a method, depending on the number or type of arguments passed.\n",
        "\n",
        "12. What is method overriding in OOP.\n",
        "- in object-oriented programming, is a language feature that allows a subclass or child class to provide a specific implementation of a method that is already provided by one of its superclasses or parent classes.\n",
        "\n",
        "13. What is a property decorator in Python.\n",
        "- The Python property decorator makes attributes in a class act like read-only properties. Essentially, it lets you access methods as if they were attributes, without needing to write parentheses.\n",
        "\n",
        "14. Why is polymorphism important in OOP.\n",
        "- Polymorphism in programming gives a program the ability to redefine methods for derived classes.\n",
        "15. What is an abstract class in Python.\n",
        "- a class that cannot be instantiated on its own and is meant to be subclassed by other classes.\n",
        "\n",
        "16. What are the advantages of OOP.\n",
        "- Object-Oriented Programming makes updating and maintaining code simpler. Organizing code into separate classes, each handling a specific function, helps OOP keep things clear and easy to work with. You can add new features or make adjustments without impacting other parts of the code when changes are needed.\n",
        "\n",
        "17. What is the difference between a class variable and an instance variable.\n",
        "- Class variables are useful for storing data that is shared among all instances of a class, such as constants or default values. Instance variables are used to store data that is unique to each instance of a class, such as object properties.\n",
        "\n",
        "18. What is multiple inheritance in Python.\n",
        "- multiple inheritance is a feature where a class can inherit attributes and methods from more than one parent class. It allows you to create a class that combines behaviors or attributes from multiple other classes, which can be quite powerful.\n",
        "\n",
        "19. Explain the purpose of ‘’__str__’ and ‘__repr__’ ‘ methods in Python?\n",
        "- In Python, the __str__() and __repr__() methods are special methods used to define how objects are represented as strings. These methods are crucial for debugging and logging, making it easier to understand the output of objects. This tutorial provides a comprehensive guide on how to use these methods effectively.\n",
        "\n",
        "20. What is the significance of the ‘super()’ function in Python.\n",
        "- The super() function is used to give access to methods and properties of a parent or sibling class.\n",
        "\n",
        "21. What is the significance of the __del__ method in Python.\n",
        "- In Python, the __del__() method is referred to as a destructor method. It is called after an object's garbage collection occurs, which happens after all references to the item have been destroyed.\n",
        "\n",
        "22. What is the difference between @staticmethod and @classmethod in Python.\n",
        "- The only difference between @classmethod and @staticmethod is that in the @classmethod, the class is bound to the method as the first argument (cls). This means that it is easy to access the class, in the method, via the cls argument, instead of having to use the full class name.\n",
        "\n",
        "23. How does polymorphism work in Python with inheritance.\n",
        "- Python polymorphism with inheritance allows a child class method to share the same name as the parent class method. Inheritance is the mechanism where the child class inherits the methods of the parent class. We can modify some of the methods that a child class inherits from the parent class.\n",
        "\n",
        "24. What is method chaining in Python OOP.\n",
        "- a common syntax for invoking multiple method calls in object-oriented programming languages.\n",
        "\n",
        "25. What is the purpose of the __call__ method in Python?\n",
        "- The __call__ method is part of Python build-in methods also called dunder or magic methods because have two prefixes and suffix underscores in the method name. The main idea of __call__ method is to write a class and invoke it like a function."
      ],
      "metadata": {
        "id": "Ls_iIpPBrsro"
      }
    },
    {
      "cell_type": "code",
      "execution_count": null,
      "metadata": {
        "id": "YS7llcQ2rfmd"
      },
      "outputs": [],
      "source": [
        "# Practical Questions\n",
        "\n",
        "1. Create a parent class Animal with a method speak() that prints a generic message. Create a child class Dog\n",
        "that overrides the speak() method to print \"Bark!\"."
      ]
    },
    {
      "cell_type": "code",
      "source": [
        "# Parent class\n",
        "class Animal:\n",
        "    def speak(self):\n",
        "        print(\"The animal makes a sound.\")\n",
        "\n",
        "# Child class\n",
        "class Dog(Animal):\n",
        "    def speak(self):\n",
        "        print(\"Bark!\")\n",
        "\n",
        "\n"
      ],
      "metadata": {
        "id": "Ywg82NxTzrlP"
      },
      "execution_count": 9,
      "outputs": []
    },
    {
      "cell_type": "markdown",
      "source": [
        "2. Write a program to create an abstract class Shape with a method area(). Derive classes Circle and Rectangle\n",
        "from it and implement the area() method in both.\n",
        "\n",
        "\n",
        "3. Implement a multi-level inheritance scenario where a class Vehicle has an attribute type. Derive a class Car\n",
        "and further derive a class ElectricCar that adds a battery attribute.\n",
        "\n",
        "\n",
        "4. Demonstrate polymorphism by creating a base class Bird with a method fly(). Create two derived classes\n",
        "Sparrow and Penguin that override the fly() method.\n",
        "\n",
        "\n",
        "5. Write a program to demonstrate encapsulation by creating a class BankAccount with private attributes\n",
        "balance and methods to deposit, withdraw, and check balance."
      ],
      "metadata": {
        "id": "Lv3aACcZ0M9i"
      }
    }
  ]
}